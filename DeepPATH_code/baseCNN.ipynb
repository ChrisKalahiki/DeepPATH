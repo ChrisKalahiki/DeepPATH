{
 "cells": [
  {
   "cell_type": "code",
   "execution_count": 1,
   "id": "1aa89a4d",
   "metadata": {},
   "outputs": [],
   "source": [
    "import tensorflow as tf\n",
    "from tensorflow.keras import layers, models, datasets\n",
    "import random, os, collections, io\n",
    "import matplotlib.pyplot as plt\n",
    "from PIL import Image\n",
    "import numpy as np\n",
    "# import matplotlib as pyplot"
   ]
  },
  {
   "cell_type": "code",
   "execution_count": 2,
   "id": "abd00e3c",
   "metadata": {},
   "outputs": [],
   "source": [
    "def make_train_and_test_sets():\n",
    "    \"\"\"Split the data into train and test sets and get the label classes.\"\"\"\n",
    "    train_examples, test_examples = [], []\n",
    "    shuffler = random.Random()\n",
    "    is_root = True\n",
    "    for (dirname, subdirs, filenames) in tf.io.gfile.walk('/home/kalafreaky/code/data/'):\n",
    "        # The root directory gives us the classes\n",
    "        if is_root:\n",
    "            subdirs = sorted(subdirs)\n",
    "            classes = collections.OrderedDict(enumerate(subdirs))\n",
    "            label_to_class = dict([(x, i) for i, x in enumerate(subdirs)])\n",
    "            is_root = False\n",
    "        # The sub directories give us the image files for training.\n",
    "        else:\n",
    "            filenames.sort()\n",
    "            shuffler.shuffle(filenames)\n",
    "            full_filenames = [os.path.join(dirname, f) for f in filenames]\n",
    "            label = dirname.split('/')[-1] # '/' for linux and '\\\\' for windows\n",
    "            label_class = label_to_class[label]\n",
    "            examples = list(zip(full_filenames, [label_class] * len(filenames)))\n",
    "            num_train = int(len(filenames) * 0.715)\n",
    "            train_examples.extend(examples[:num_train])\n",
    "            test_examples.extend(examples[num_train:])\n",
    "    shuffler.shuffle(train_examples)\n",
    "    shuffler.shuffle(test_examples)\n",
    "    \n",
    "    x_train = []\n",
    "    y_train = []\n",
    "    x_test = []\n",
    "    y_test = []\n",
    "    for x in train_examples:\n",
    "        tmp = Image.open(x[0]).resize((558, 1005)) # Original: (1116, 2011)\n",
    "        data = np.asarray(tmp)\n",
    "        x_train.append(data)\n",
    "#         x_train.append(x[0])\n",
    "        tmp = np.asarray([x[1]])\n",
    "        y_train.append(tmp)\n",
    "    for y in test_examples:\n",
    "        tmp = Image.open(y[0]).resize((558, 1005))\n",
    "        data = np.asarray(tmp)\n",
    "        x_test.append(data)\n",
    "#         x_test.append(y[0])\n",
    "        tmp = np.asarray([y[1]])\n",
    "        y_test.append(tmp)\n",
    "    return x_train, y_train, x_test, y_test, classes"
   ]
  },
  {
   "cell_type": "code",
   "execution_count": 3,
   "id": "ab453332",
   "metadata": {},
   "outputs": [],
   "source": [
    "TRAIN_SAMPLE, TRAIN_LABEL, TEST_SAMPLE, TEST_LABEL, CLASSES = make_train_and_test_sets()"
   ]
  },
  {
   "cell_type": "markdown",
   "id": "e924af80",
   "metadata": {},
   "source": [
    "So here is the thing... The only conclusion I can come to is that the the images vary in size and that is causing the fit method to fail."
   ]
  },
  {
   "cell_type": "code",
   "execution_count": 12,
   "id": "ad7ed215",
   "metadata": {},
   "outputs": [
    {
     "name": "stdout",
     "output_type": "stream",
     "text": [
      "70\n",
      "70\n",
      "70\n",
      "29\n"
     ]
    }
   ],
   "source": [
    "TRAIN_SAMPLE = np.array(TRAIN_SAMPLE)\n",
    "TEST_SAMPLE = np.array(TRAIN_SAMPLE)\n",
    "TRAIN_LABEL = np.array(TRAIN_LABEL)\n",
    "TEST_LABEL = np.array(TEST_LABEL)\n",
    "print(len(TRAIN_SAMPLE))\n",
    "print(len(TRAIN_LABEL))\n",
    "print(len(TEST_SAMPLE))\n",
    "print(len(TEST_LABEL))"
   ]
  },
  {
   "cell_type": "markdown",
   "id": "eadae76b",
   "metadata": {},
   "source": [
    "Here is where we create the model that we are going to use. Keras is a lot more straightforward than old tensorflow."
   ]
  },
  {
   "cell_type": "code",
   "execution_count": 5,
   "id": "57e4538e",
   "metadata": {},
   "outputs": [],
   "source": [
    "model = models.Sequential()\n",
    "model.add(layers.Conv2D(32, (32, 32), activation='relu', input_shape=(1005, 558, 3)))\n",
    "model.add(layers.MaxPooling2D((2, 2)))\n",
    "model.add(layers.Conv2D(64, (32, 32), activation='relu'))\n",
    "model.add(layers.MaxPooling2D((2, 2)))\n",
    "model.add(layers.Conv2D(64, (32, 32), activation='relu'))\n",
    "model.add(layers.Flatten())\n",
    "model.add(layers.Dense(64, activation='relu'))\n",
    "model.add(layers.Dense(2))\n",
    "# model.summary()"
   ]
  },
  {
   "cell_type": "code",
   "execution_count": 6,
   "id": "748795a9",
   "metadata": {},
   "outputs": [],
   "source": [
    "model.compile(optimizer='adam',\n",
    "              loss=tf.keras.losses.SparseCategoricalCrossentropy(from_logits=True),\n",
    "              metrics=['accuracy'])"
   ]
  },
  {
   "cell_type": "markdown",
   "id": "c2d05f7e",
   "metadata": {},
   "source": [
    "So here is the thing that gets weird. I can't get the model to train using the images and labels from our set. I decided to try and use a data set that is supplied in the tensorflow package. It seems to work fine."
   ]
  },
  {
   "cell_type": "markdown",
   "id": "bfdadd2f",
   "metadata": {},
   "source": [
    "Training the model"
   ]
  },
  {
   "cell_type": "code",
   "execution_count": 7,
   "id": "0053a246",
   "metadata": {},
   "outputs": [
    {
     "name": "stdout",
     "output_type": "stream",
     "text": [
      "(5, 1005, 558, 3)\n",
      "(5, 1)\n",
      "1/1 [==============================] - 1058s 1058s/step - loss: 4.6544 - accuracy: 0.4000\n",
      "fit complete\n",
      "(5, 1005, 558, 3)\n",
      "(5, 1)\n",
      "1/1 [==============================] - 1017s 1017s/step - loss: 10010178.0000 - accuracy: 0.8000\n",
      "fit complete\n",
      "(5, 1005, 558, 3)\n",
      "(5, 1)\n",
      "1/1 [==============================] - 992s 992s/step - loss: 91739.4141 - accuracy: 0.6000\n",
      "fit complete\n",
      "(5, 1005, 558, 3)\n",
      "(5, 1)\n",
      "1/1 [==============================] - 1002s 1002s/step - loss: 501471.3125 - accuracy: 0.2000\n",
      "fit complete\n",
      "(5, 1005, 558, 3)\n",
      "(5, 1)\n",
      "1/1 [==============================] - 998s 998s/step - loss: 0.6836 - accuracy: 0.6000\n",
      "fit complete\n",
      "(5, 1005, 558, 3)\n",
      "(5, 1)\n",
      "1/1 [==============================] - 960s 960s/step - loss: 0.8745 - accuracy: 0.2000\n",
      "fit complete\n",
      "(5, 1005, 558, 3)\n",
      "(5, 1)\n",
      "1/1 [==============================] - 1001s 1001s/step - loss: 0.8668 - accuracy: 0.4000\n",
      "fit complete\n",
      "(5, 1005, 558, 3)\n",
      "(5, 1)\n",
      "1/1 [==============================] - 994s 994s/step - loss: 0.8836 - accuracy: 0.4000\n",
      "fit complete\n",
      "(5, 1005, 558, 3)\n",
      "(5, 1)\n",
      "1/1 [==============================] - 997s 997s/step - loss: 0.6811 - accuracy: 0.6000\n",
      "fit complete\n",
      "(5, 1005, 558, 3)\n",
      "(5, 1)\n",
      "1/1 [==============================] - 996s 996s/step - loss: 0.7570 - accuracy: 0.4000\n",
      "fit complete\n",
      "(5, 1005, 558, 3)\n",
      "(5, 1)\n",
      "1/1 [==============================] - 981s 981s/step - loss: 0.7012 - accuracy: 0.4000\n",
      "fit complete\n",
      "(5, 1005, 558, 3)\n",
      "(5, 1)\n",
      "1/1 [==============================] - 1006s 1006s/step - loss: 0.6915 - accuracy: 0.6000\n",
      "fit complete\n",
      "(5, 1005, 558, 3)\n",
      "(5, 1)\n",
      "1/1 [==============================] - 937s 937s/step - loss: 0.6935 - accuracy: 0.4000\n",
      "fit complete\n",
      "(5, 1005, 558, 3)\n",
      "(5, 1)\n",
      "1/1 [==============================] - 1024s 1024s/step - loss: 0.6936 - accuracy: 0.4000\n",
      "fit complete\n"
     ]
    }
   ],
   "source": [
    "for i in range(14):\n",
    "    a = i * 5\n",
    "    print(TRAIN_SAMPLE[(a):(a+5)].shape)\n",
    "    print(TRAIN_LABEL[(a):(a+5)].shape)\n",
    "    history = model.fit(TRAIN_SAMPLE[(a):(a+5)], TRAIN_LABEL[(a):(a+5)])#, epochs=1)\n",
    "    print('fit complete')"
   ]
  },
  {
   "cell_type": "code",
   "execution_count": 8,
   "id": "70b22a06",
   "metadata": {},
   "outputs": [
    {
     "ename": "KeyError",
     "evalue": "'val_accuracy'",
     "output_type": "error",
     "traceback": [
      "\u001b[0;31m-------------------------------------------------------------\u001b[0m",
      "\u001b[0;31mKeyError\u001b[0m                    Traceback (most recent call last)",
      "\u001b[0;32m<ipython-input-8-eaeb40ec4f7d>\u001b[0m in \u001b[0;36m<module>\u001b[0;34m\u001b[0m\n\u001b[1;32m      1\u001b[0m \u001b[0mplt\u001b[0m\u001b[0;34m.\u001b[0m\u001b[0mplot\u001b[0m\u001b[0;34m(\u001b[0m\u001b[0mhistory\u001b[0m\u001b[0;34m.\u001b[0m\u001b[0mhistory\u001b[0m\u001b[0;34m[\u001b[0m\u001b[0;34m'accuracy'\u001b[0m\u001b[0;34m]\u001b[0m\u001b[0;34m,\u001b[0m \u001b[0mlabel\u001b[0m\u001b[0;34m=\u001b[0m\u001b[0;34m'accuracy'\u001b[0m\u001b[0;34m)\u001b[0m\u001b[0;34m\u001b[0m\u001b[0;34m\u001b[0m\u001b[0m\n\u001b[0;32m----> 2\u001b[0;31m \u001b[0mplt\u001b[0m\u001b[0;34m.\u001b[0m\u001b[0mplot\u001b[0m\u001b[0;34m(\u001b[0m\u001b[0mhistory\u001b[0m\u001b[0;34m.\u001b[0m\u001b[0mhistory\u001b[0m\u001b[0;34m[\u001b[0m\u001b[0;34m'val_accuracy'\u001b[0m\u001b[0;34m]\u001b[0m\u001b[0;34m,\u001b[0m \u001b[0mlabel\u001b[0m \u001b[0;34m=\u001b[0m \u001b[0;34m'val_accuracy'\u001b[0m\u001b[0;34m)\u001b[0m\u001b[0;34m\u001b[0m\u001b[0;34m\u001b[0m\u001b[0m\n\u001b[0m\u001b[1;32m      3\u001b[0m \u001b[0mplt\u001b[0m\u001b[0;34m.\u001b[0m\u001b[0mxlabel\u001b[0m\u001b[0;34m(\u001b[0m\u001b[0;34m'Epoch'\u001b[0m\u001b[0;34m)\u001b[0m\u001b[0;34m\u001b[0m\u001b[0;34m\u001b[0m\u001b[0m\n\u001b[1;32m      4\u001b[0m \u001b[0mplt\u001b[0m\u001b[0;34m.\u001b[0m\u001b[0mylabel\u001b[0m\u001b[0;34m(\u001b[0m\u001b[0;34m'Accuracy'\u001b[0m\u001b[0;34m)\u001b[0m\u001b[0;34m\u001b[0m\u001b[0;34m\u001b[0m\u001b[0m\n\u001b[1;32m      5\u001b[0m \u001b[0mplt\u001b[0m\u001b[0;34m.\u001b[0m\u001b[0mylim\u001b[0m\u001b[0;34m(\u001b[0m\u001b[0;34m[\u001b[0m\u001b[0;36m0.5\u001b[0m\u001b[0;34m,\u001b[0m \u001b[0;36m1\u001b[0m\u001b[0;34m]\u001b[0m\u001b[0;34m)\u001b[0m\u001b[0;34m\u001b[0m\u001b[0;34m\u001b[0m\u001b[0m\n",
      "\u001b[0;31mKeyError\u001b[0m: 'val_accuracy'"
     ]
    },
    {
     "data": {
      "image/png": "[encoded data removed]",
      "text/plain": [
       "<Figure size 432x288 with 1 Axes>"
      ]
     },
     "metadata": {
      "needs_background": "light"
     },
     "output_type": "display_data"
    }
   ],
   "source": [
    "plt.plot(history.history['accuracy'], label='accuracy')\n",
    "plt.plot(history.history['val_accuracy'], label = 'val_accuracy')\n",
    "plt.xlabel('Epoch')\n",
    "plt.ylabel('Accuracy')\n",
    "plt.ylim([0.5, 1])\n",
    "plt.legend(loc='lower right')"
   ]
  },
  {
   "cell_type": "code",
   "execution_count": 10,
   "id": "4207992f",
   "metadata": {},
   "outputs": [
    {
     "data": {
      "text/plain": [
       "(70, 1005, 558, 3)"
      ]
     },
     "execution_count": 10,
     "metadata": {},
     "output_type": "execute_result"
    }
   ],
   "source": [
    "TEST_SAMPLE.shape"
   ]
  },
  {
   "cell_type": "code",
   "execution_count": 11,
   "id": "df89f4ab",
   "metadata": {},
   "outputs": [
    {
     "data": {
      "text/plain": [
       "(29, 1)"
      ]
     },
     "execution_count": 11,
     "metadata": {},
     "output_type": "execute_result"
    }
   ],
   "source": [
    "TEST_LABEL.shape"
   ]
  },
  {
   "cell_type": "code",
   "execution_count": 13,
   "id": "0c1fc277",
   "metadata": {},
   "outputs": [
    {
     "name": "stdout",
     "output_type": "stream",
     "text": [
      "3/3 - 111s - loss: 0.6925 - accuracy: 0.5000\n",
      "0.5\n"
     ]
    }
   ],
   "source": [
    "test_loss, test_acc = model.evaluate(TRAIN_SAMPLE,  TRAIN_LABEL, verbose=2)\n",
    "\n",
    "print(test_acc)"
   ]
  },
  {
   "cell_type": "code",
   "execution_count": null,
   "id": "3ab99ba3",
   "metadata": {},
   "outputs": [],
   "source": []
  }
 ],
 "metadata": {
  "kernelspec": {
   "display_name": "Python 3",
   "language": "python",
   "name": "python3"
  },
  "language_info": {
   "codemirror_mode": {
    "name": "ipython",
    "version": 3
   },
   "file_extension": ".py",
   "mimetype": "text/x-python",
   "name": "python",
   "nbconvert_exporter": "python",
   "pygments_lexer": "ipython3",
   "version": "3.9.5"
  }
 },
 "nbformat": 4,
 "nbformat_minor": 5
}
