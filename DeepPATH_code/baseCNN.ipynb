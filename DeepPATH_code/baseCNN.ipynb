{
 "cells": [
  {
   "cell_type": "code",
   "execution_count": 1,
   "id": "1aa89a4d",
   "metadata": {},
   "outputs": [],
   "source": [
    "import tensorflow as tf\n",
    "from tensorflow.keras import layers, models, datasets\n",
    "import random, os, collections, io\n",
    "import matplotlib.pyplot as plt\n",
    "from PIL import Image\n",
    "import numpy as np\n",
    "# import matplotlib as pyplot"
   ]
  },
  {
   "cell_type": "code",
   "execution_count": 2,
   "id": "abd00e3c",
   "metadata": {},
   "outputs": [],
   "source": [
    "def make_train_and_test_sets():\n",
    "    \"\"\"Split the data into train and test sets and get the label classes.\"\"\"\n",
    "    train_examples, test_examples = [], []\n",
    "    shuffler = random.Random()\n",
    "    is_root = True\n",
    "    for (dirname, subdirs, filenames) in tf.io.gfile.walk('/home/kalafreaky/code/data/'):\n",
    "        # The root directory gives us the classes\n",
    "        if is_root:\n",
    "            subdirs = sorted(subdirs)\n",
    "            classes = collections.OrderedDict(enumerate(subdirs))\n",
    "            label_to_class = dict([(x, i) for i, x in enumerate(subdirs)])\n",
    "            is_root = False\n",
    "        # The sub directories give us the image files for training.\n",
    "        else:\n",
    "            filenames.sort()\n",
    "            shuffler.shuffle(filenames)\n",
    "            full_filenames = [os.path.join(dirname, f) for f in filenames]\n",
    "            label = dirname.split('/')[-1] # '/' for linux and '\\\\' for windows\n",
    "            label_class = label_to_class[label]\n",
    "            examples = list(zip(full_filenames, [label_class] * len(filenames)))\n",
    "            num_train = int(len(filenames) * 0.7)\n",
    "            train_examples.extend(examples[:num_train])\n",
    "            test_examples.extend(examples[num_train:])\n",
    "    shuffler.shuffle(train_examples)\n",
    "    shuffler.shuffle(test_examples)\n",
    "    \n",
    "    x_train = []\n",
    "    y_train = []\n",
    "    x_test = []\n",
    "    y_test = []\n",
    "    for x in train_examples:\n",
    "        tmp = Image.open(x[0]).resize((1116, 2011))\n",
    "        data = np.asarray(tmp)\n",
    "        x_train.append(data)\n",
    "#         x_train.append(x[0])\n",
    "        y_train.append([x[1]])\n",
    "    for y in test_examples:\n",
    "        tmp = Image.open(y[0]).resize((1116, 2011))\n",
    "        data = np.asarray(tmp)\n",
    "        x_test.append(data)\n",
    "#         x_test.append(y[0])\n",
    "        y_test.append([y[1]])\n",
    "    return x_train, y_train, x_test, y_test, classes"
   ]
  },
  {
   "cell_type": "code",
   "execution_count": 3,
   "id": "ab453332",
   "metadata": {},
   "outputs": [],
   "source": [
    "TRAIN_SAMPLE, TRAIN_LABEL, TEST_SAMPLE, TEST_LABEL, CLASSES = make_train_and_test_sets()"
   ]
  },
  {
   "cell_type": "code",
   "execution_count": 4,
   "id": "31ef7523",
   "metadata": {},
   "outputs": [],
   "source": [
    "# for i in TRAIN_SAMPLE:\n",
    "#     print(i.shape)\n",
    "\n",
    "# (840, 1400, 3) appears to be the minimum in both directions\n",
    "# (1116, 2011, 3) appears to be the mode size"
   ]
  },
  {
   "cell_type": "markdown",
   "id": "e924af80",
   "metadata": {},
   "source": [
    "So here is the thing... The only conclusion I can come to is that the the images vary in size and that is causing the fit method to fail."
   ]
  },
  {
   "cell_type": "code",
   "execution_count": 5,
   "id": "ad7ed215",
   "metadata": {},
   "outputs": [],
   "source": [
    "# Not sure this is necessary anymore.\n",
    "TRAIN_LABEL = np.array(TRAIN_LABEL)\n",
    "TEST_LABEL = np.array(TEST_LABEL)"
   ]
  },
  {
   "cell_type": "markdown",
   "id": "eadae76b",
   "metadata": {},
   "source": [
    "Here is where we create the model that we are going to use. Keras is a lot more straightforward than old tensorflow."
   ]
  },
  {
   "cell_type": "code",
   "execution_count": 6,
   "id": "57e4538e",
   "metadata": {},
   "outputs": [],
   "source": [
    "model = models.Sequential()\n",
    "model.add(layers.Conv2D(32, (3, 3), activation='relu', input_shape=(32, 32, 3)))\n",
    "model.add(layers.MaxPooling2D((2, 2)))\n",
    "model.add(layers.Conv2D(64, (3, 3), activation='relu'))\n",
    "model.add(layers.MaxPooling2D((2, 2)))\n",
    "model.add(layers.Conv2D(64, (3, 3), activation='relu'))\n",
    "# model.summary()"
   ]
  },
  {
   "cell_type": "code",
   "execution_count": 7,
   "id": "04aa9235",
   "metadata": {},
   "outputs": [],
   "source": [
    "model.add(layers.Flatten())\n",
    "model.add(layers.Dense(64, activation='relu'))\n",
    "model.add(layers.Dense(10))\n",
    "# model.summary()"
   ]
  },
  {
   "cell_type": "code",
   "execution_count": 8,
   "id": "748795a9",
   "metadata": {},
   "outputs": [],
   "source": [
    "model.compile(optimizer='adam',\n",
    "              loss=tf.keras.losses.SparseCategoricalCrossentropy(from_logits=True),\n",
    "              metrics=['accuracy'])"
   ]
  },
  {
   "cell_type": "markdown",
   "id": "c2d05f7e",
   "metadata": {},
   "source": [
    "So here is the thing that gets weird. I can't get the model to train using the images and labels from our set. I decided to try and use a data set that is supplied in the tensorflow package. It seems to work fine."
   ]
  },
  {
   "cell_type": "code",
   "execution_count": 9,
   "id": "0d9a7f2f",
   "metadata": {},
   "outputs": [],
   "source": [
    "(train_images, train_labels), (test_images, test_labels) = datasets.cifar10.load_data()"
   ]
  },
  {
   "cell_type": "markdown",
   "id": "bfdadd2f",
   "metadata": {},
   "source": [
    "Training the model"
   ]
  },
  {
   "cell_type": "code",
   "execution_count": 10,
   "id": "09d5290d",
   "metadata": {},
   "outputs": [
    {
     "name": "stdout",
     "output_type": "stream",
     "text": [
      "Epoch 1/10\n",
      "1563/1563 [==============================] - 22s 14ms/step - loss: 1.9710 - accuracy: 0.3393 - val_loss: 1.5609 - val_accuracy: 0.4266\n",
      "Epoch 2/10\n",
      "1563/1563 [==============================] - 21s 14ms/step - loss: 1.3854 - accuracy: 0.5006 - val_loss: 1.3250 - val_accuracy: 0.5235\n",
      "Epoch 3/10\n",
      "1563/1563 [==============================] - 22s 14ms/step - loss: 1.2193 - accuracy: 0.5695 - val_loss: 1.1934 - val_accuracy: 0.5814\n",
      "Epoch 4/10\n",
      "1563/1563 [==============================] - 21s 14ms/step - loss: 1.1100 - accuracy: 0.6116 - val_loss: 1.1125 - val_accuracy: 0.6134\n",
      "Epoch 5/10\n",
      "1563/1563 [==============================] - 21s 13ms/step - loss: 1.0310 - accuracy: 0.6406 - val_loss: 1.0606 - val_accuracy: 0.6334\n",
      "Epoch 6/10\n",
      "1563/1563 [==============================] - 16s 10ms/step - loss: 0.9530 - accuracy: 0.6674 - val_loss: 1.1052 - val_accuracy: 0.6321\n",
      "Epoch 7/10\n",
      "1563/1563 [==============================] - 16s 10ms/step - loss: 0.8966 - accuracy: 0.6876 - val_loss: 1.0575 - val_accuracy: 0.6493\n",
      "Epoch 8/10\n",
      "1563/1563 [==============================] - 16s 10ms/step - loss: 0.8479 - accuracy: 0.7056 - val_loss: 1.0615 - val_accuracy: 0.6483\n",
      "Epoch 9/10\n",
      "1563/1563 [==============================] - 16s 10ms/step - loss: 0.8020 - accuracy: 0.7189 - val_loss: 1.0937 - val_accuracy: 0.6431\n",
      "Epoch 10/10\n",
      "1563/1563 [==============================] - 16s 10ms/step - loss: 0.7581 - accuracy: 0.7365 - val_loss: 1.0455 - val_accuracy: 0.6544\n"
     ]
    }
   ],
   "source": [
    "history = model.fit(train_images, train_labels, epochs=10, \n",
    "                    validation_data=(test_images, test_labels))"
   ]
  },
  {
   "cell_type": "code",
   "execution_count": 11,
   "id": "70b22a06",
   "metadata": {},
   "outputs": [
    {
     "data": {
      "text/plain": [
       "<matplotlib.legend.Legend at 0x7fd80422cac0>"
      ]
     },
     "execution_count": 11,
     "metadata": {},
     "output_type": "execute_result"
    },
    {
     "data": {
      "image/png": "[encoded data removed]",
      "text/plain": [
       "<Figure size 432x288 with 1 Axes>"
      ]
     },
     "metadata": {
      "needs_background": "light"
     },
     "output_type": "display_data"
    }
   ],
   "source": [
    "plt.plot(history.history['accuracy'], label='accuracy')\n",
    "plt.plot(history.history['val_accuracy'], label = 'val_accuracy')\n",
    "plt.xlabel('Epoch')\n",
    "plt.ylabel('Accuracy')\n",
    "plt.ylim([0.5, 1])\n",
    "plt.legend(loc='lower right')"
   ]
  },
  {
   "cell_type": "code",
   "execution_count": 12,
   "id": "0c1fc277",
   "metadata": {},
   "outputs": [
    {
     "name": "stdout",
     "output_type": "stream",
     "text": [
      "313/313 - 1s - loss: 1.0455 - accuracy: 0.6544\n",
      "0.6543999910354614\n"
     ]
    }
   ],
   "source": [
    "test_loss, test_acc = model.evaluate(test_images,  test_labels, verbose=2)\n",
    "\n",
    "print(test_acc)"
   ]
  },
  {
   "cell_type": "code",
   "execution_count": null,
   "id": "3ab99ba3",
   "metadata": {},
   "outputs": [],
   "source": []
  }
 ],
 "metadata": {
  "kernelspec": {
   "display_name": "Python 3",
   "language": "python",
   "name": "python3"
  },
  "language_info": {
   "codemirror_mode": {
    "name": "ipython",
    "version": 3
   },
   "file_extension": ".py",
   "mimetype": "text/x-python",
   "name": "python",
   "nbconvert_exporter": "python",
   "pygments_lexer": "ipython3",
   "version": "3.9.5"
  }
 },
 "nbformat": 4,
 "nbformat_minor": 5
}
